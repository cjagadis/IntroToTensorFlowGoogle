{
  "nbformat": 4,
  "nbformat_minor": 0,
  "metadata": {
    "colab": {
      "name": "Course 2 - Part 6 - Lesson 3 - Notebook.ipynb",
      "version": "0.3.2",
      "provenance": [],
      "include_colab_link": true
    },
    "kernelspec": {
      "name": "python3",
      "display_name": "Python 3"
    }
  },
  "cells": [
    {
      "cell_type": "markdown",
      "metadata": {
        "id": "view-in-github",
        "colab_type": "text"
      },
      "source": [
        "<a href=\"https://colab.research.google.com/github/cjagadis/IntroToTensorFlowGoogle/blob/master/Course_2_Part_6_Lesson_3_Notebook.ipynb\" target=\"_parent\"><img src=\"https://colab.research.google.com/assets/colab-badge.svg\" alt=\"Open In Colab\"/></a>"
      ]
    },
    {
      "metadata": {
        "id": "g5SxTxK5fDYu",
        "colab_type": "code",
        "colab": {
          "base_uri": "https://localhost:8080/",
          "height": 306
        },
        "outputId": "0ebbb9f9-bea8-4d07-b11a-19083b54e4d2"
      },
      "cell_type": "code",
      "source": [
        "import os\n",
        "\n",
        "from tensorflow.keras import layers\n",
        "from tensorflow.keras import Model\n",
        "!wget --no-check-certificate \\\n",
        "    https://storage.googleapis.com/mledu-datasets/inception_v3_weights_tf_dim_ordering_tf_kernels_notop.h5 \\\n",
        "    -O /tmp/inception_v3_weights_tf_dim_ordering_tf_kernels_notop.h5\n",
        "  \n",
        "from tensorflow.keras.applications.inception_v3 import InceptionV3\n",
        "\n",
        "local_weights_file = '/tmp/inception_v3_weights_tf_dim_ordering_tf_kernels_notop.h5'\n",
        "\n",
        "pre_trained_model = InceptionV3(input_shape = (150, 150, 3), \n",
        "                                include_top = False, \n",
        "                                weights = None)\n",
        "\n",
        "pre_trained_model.load_weights(local_weights_file)\n",
        "\n",
        "for layer in pre_trained_model.layers:\n",
        "  layer.trainable = False\n",
        "  \n",
        "# pre_trained_model.summary()\n",
        "\n",
        "last_layer = pre_trained_model.get_layer('mixed7')\n",
        "print('last layer output shape: ', last_layer.output_shape)\n",
        "last_output = last_layer.output"
      ],
      "execution_count": 1,
      "outputs": [
        {
          "output_type": "stream",
          "text": [
            "--2019-03-23 21:38:11--  https://storage.googleapis.com/mledu-datasets/inception_v3_weights_tf_dim_ordering_tf_kernels_notop.h5\n",
            "Resolving storage.googleapis.com (storage.googleapis.com)... 74.125.141.128, 2607:f8b0:400c:c06::80\n",
            "Connecting to storage.googleapis.com (storage.googleapis.com)|74.125.141.128|:443... connected.\n",
            "HTTP request sent, awaiting response... 200 OK\n",
            "Length: 87910968 (84M) [application/x-hdf]\n",
            "Saving to: ‘/tmp/inception_v3_weights_tf_dim_ordering_tf_kernels_notop.h5’\n",
            "\n",
            "/tmp/inception_v3_w 100%[===================>]  83.84M   116MB/s    in 0.7s    \n",
            "\n",
            "2019-03-23 21:38:12 (116 MB/s) - ‘/tmp/inception_v3_weights_tf_dim_ordering_tf_kernels_notop.h5’ saved [87910968/87910968]\n",
            "\n",
            "WARNING:tensorflow:From /usr/local/lib/python3.6/dist-packages/tensorflow/python/ops/resource_variable_ops.py:435: colocate_with (from tensorflow.python.framework.ops) is deprecated and will be removed in a future version.\n",
            "Instructions for updating:\n",
            "Colocations handled automatically by placer.\n",
            "last layer output shape:  (None, 7, 7, 768)\n"
          ],
          "name": "stdout"
        }
      ]
    },
    {
      "metadata": {
        "id": "V0C7jezufUOg",
        "colab_type": "code",
        "colab": {
          "base_uri": "https://localhost:8080/",
          "height": 91
        },
        "outputId": "ab2bf440-445f-4aac-f22a-e0dd577a1eeb"
      },
      "cell_type": "code",
      "source": [
        "from tensorflow.keras.optimizers import RMSprop\n",
        "\n",
        "# Flatten the output layer to 1 dimension\n",
        "x = layers.Flatten()(last_output)\n",
        "# Add a fully connected layer with 1,024 hidden units and ReLU activation\n",
        "x = layers.Dense(1024, activation='relu')(x)\n",
        "# Add a dropout rate of 0.2\n",
        "x = layers.Dropout(0.2)(x)                  \n",
        "# Add a final sigmoid layer for classification\n",
        "x = layers.Dense  (1, activation='sigmoid')(x)           \n",
        "\n",
        "model = Model( pre_trained_model.input, x) \n",
        "\n",
        "model.compile(optimizer = RMSprop(lr=0.0001), \n",
        "              loss = 'binary_crossentropy', \n",
        "              metrics = ['acc'])"
      ],
      "execution_count": 2,
      "outputs": [
        {
          "output_type": "stream",
          "text": [
            "WARNING:tensorflow:From /usr/local/lib/python3.6/dist-packages/tensorflow/python/keras/layers/core.py:143: calling dropout (from tensorflow.python.ops.nn_ops) with keep_prob is deprecated and will be removed in a future version.\n",
            "Instructions for updating:\n",
            "Please use `rate` instead of `keep_prob`. Rate should be set to `rate = 1 - keep_prob`.\n"
          ],
          "name": "stdout"
        }
      ]
    },
    {
      "metadata": {
        "id": "iVv5P-CVhMoB",
        "colab_type": "code",
        "colab": {
          "base_uri": "https://localhost:8080/",
          "height": 250
        },
        "outputId": "5b7ed413-c606-41de-ce2f-8ffb63318867"
      },
      "cell_type": "code",
      "source": [
        "!wget --no-check-certificate \\\n",
        "        https://storage.googleapis.com/mledu-datasets/cats_and_dogs_filtered.zip \\\n",
        "       -O /tmp/cats_and_dogs_filtered.zip\n",
        "\n",
        "from tensorflow.keras.preprocessing.image import ImageDataGenerator\n",
        "\n",
        "import os\n",
        "import zipfile\n",
        "\n",
        "local_zip = '//tmp/cats_and_dogs_filtered.zip'\n",
        "\n",
        "zip_ref = zipfile.ZipFile(local_zip, 'r')\n",
        "\n",
        "zip_ref.extractall('/tmp')\n",
        "zip_ref.close()\n",
        "\n",
        "# Define our example directories and files\n",
        "base_dir = '/tmp/cats_and_dogs_filtered'\n",
        "\n",
        "train_dir = os.path.join( base_dir, 'train')\n",
        "validation_dir = os.path.join( base_dir, 'validation')\n",
        "\n",
        "\n",
        "train_cats_dir = os.path.join(train_dir, 'cats') # Directory with our training cat pictures\n",
        "train_dogs_dir = os.path.join(train_dir, 'dogs') # Directory with our training dog pictures\n",
        "validation_cats_dir = os.path.join(validation_dir, 'cats') # Directory with our validation cat pictures\n",
        "validation_dogs_dir = os.path.join(validation_dir, 'dogs')# Directory with our validation dog pictures\n",
        "\n",
        "train_cat_fnames = os.listdir(train_cats_dir)\n",
        "train_dog_fnames = os.listdir(train_dogs_dir)\n",
        "\n",
        "# Add our data-augmentation parameters to ImageDataGenerator\n",
        "train_datagen = ImageDataGenerator(rescale = 1./255.,\n",
        "                                   rotation_range =  40,\n",
        "                                   width_shift_range = 0.2,\n",
        "                                   height_shift_range = 0.2,\n",
        "                                   shear_range = 0.2,\n",
        "                                   zoom_range = 0.2,\n",
        "                                   horizontal_flip = True)\n",
        "\n",
        "# Note that the validation data should not be augmented!\n",
        "test_datagen = ImageDataGenerator( rescale = 1.0/255. )\n",
        "\n",
        "# Flow training images in batches of 20 using train_datagen generator\n",
        "train_generator = train_datagen.flow_from_directory(train_dir,\n",
        "                                                    batch_size = 20,\n",
        "                                                    class_mode = 'binary', \n",
        "                                                    target_size = (150, 150))     \n",
        "\n",
        "# Flow validation images in batches of 20 using test_datagen generator\n",
        "validation_generator =  test_datagen.flow_from_directory( validation_dir,\n",
        "                                                          batch_size  = 20,\n",
        "                                                          class_mode  = 'binary', \n",
        "                                                          target_size = (150, 150))"
      ],
      "execution_count": 3,
      "outputs": [
        {
          "output_type": "stream",
          "text": [
            "--2019-03-23 21:55:50--  https://storage.googleapis.com/mledu-datasets/cats_and_dogs_filtered.zip\n",
            "Resolving storage.googleapis.com (storage.googleapis.com)... 74.125.141.128, 2607:f8b0:400c:c06::80\n",
            "Connecting to storage.googleapis.com (storage.googleapis.com)|74.125.141.128|:443... connected.\n",
            "HTTP request sent, awaiting response... 200 OK\n",
            "Length: 68606236 (65M) [application/zip]\n",
            "Saving to: ‘/tmp/cats_and_dogs_filtered.zip’\n",
            "\n",
            "/tmp/cats_and_dogs_ 100%[===================>]  65.43M   155MB/s    in 0.4s    \n",
            "\n",
            "2019-03-23 21:55:51 (155 MB/s) - ‘/tmp/cats_and_dogs_filtered.zip’ saved [68606236/68606236]\n",
            "\n",
            "Found 2000 images belonging to 2 classes.\n",
            "Found 1000 images belonging to 2 classes.\n"
          ],
          "name": "stdout"
        }
      ]
    },
    {
      "metadata": {
        "id": "Mg1MJ1tpjYUJ",
        "colab_type": "code",
        "colab": {
          "base_uri": "https://localhost:8080/",
          "height": 1166
        },
        "outputId": "ac54441f-d4da-4eb7-bcca-ed8bddfdb97a"
      },
      "cell_type": "code",
      "source": [
        "history = model.fit_generator(\n",
        "            train_generator,\n",
        "            validation_data = validation_generator,\n",
        "            steps_per_epoch = 100,\n",
        "            epochs = 20,\n",
        "            validation_steps = 50,\n",
        "            verbose = 2)"
      ],
      "execution_count": 4,
      "outputs": [
        {
          "output_type": "stream",
          "text": [
            "WARNING:tensorflow:From /usr/local/lib/python3.6/dist-packages/tensorflow/python/ops/math_ops.py:3066: to_int32 (from tensorflow.python.ops.math_ops) is deprecated and will be removed in a future version.\n",
            "Instructions for updating:\n",
            "Use tf.cast instead.\n",
            "Epoch 1/20\n",
            "50/50 [==============================] - 54s 1s/step - loss: 0.1617 - acc: 0.9510\n",
            " - 215s - loss: 0.5158 - acc: 0.7555 - val_loss: 0.1617 - val_acc: 0.9510\n",
            "Epoch 2/20\n",
            "50/50 [==============================] - 54s 1s/step - loss: 0.2446 - acc: 0.9380\n",
            " - 212s - loss: 0.3505 - acc: 0.8455 - val_loss: 0.2446 - val_acc: 0.9380\n",
            "Epoch 3/20\n",
            "50/50 [==============================] - 54s 1s/step - loss: 0.2593 - acc: 0.9430\n",
            " - 212s - loss: 0.3642 - acc: 0.8410 - val_loss: 0.2593 - val_acc: 0.9430\n",
            "Epoch 4/20\n",
            "50/50 [==============================] - 54s 1s/step - loss: 0.3300 - acc: 0.9340\n",
            " - 212s - loss: 0.3174 - acc: 0.8695 - val_loss: 0.3300 - val_acc: 0.9340\n",
            "Epoch 5/20\n",
            "50/50 [==============================] - 54s 1s/step - loss: 0.3362 - acc: 0.9400\n",
            " - 212s - loss: 0.3343 - acc: 0.8640 - val_loss: 0.3362 - val_acc: 0.9400\n",
            "Epoch 6/20\n",
            "50/50 [==============================] - 54s 1s/step - loss: 0.3752 - acc: 0.9340\n",
            " - 212s - loss: 0.2992 - acc: 0.8775 - val_loss: 0.3752 - val_acc: 0.9340\n",
            "Epoch 7/20\n",
            "50/50 [==============================] - 53s 1s/step - loss: 0.3543 - acc: 0.9450\n",
            " - 211s - loss: 0.2838 - acc: 0.8800 - val_loss: 0.3543 - val_acc: 0.9450\n",
            "Epoch 8/20\n",
            "50/50 [==============================] - 54s 1s/step - loss: 0.4637 - acc: 0.9280\n",
            " - 212s - loss: 0.3190 - acc: 0.8785 - val_loss: 0.4637 - val_acc: 0.9280\n",
            "Epoch 9/20\n",
            "50/50 [==============================] - 53s 1s/step - loss: 0.3789 - acc: 0.9360\n",
            " - 212s - loss: 0.2962 - acc: 0.8700 - val_loss: 0.3789 - val_acc: 0.9360\n",
            "Epoch 10/20\n",
            "50/50 [==============================] - 53s 1s/step - loss: 0.2455 - acc: 0.9630\n",
            " - 210s - loss: 0.2806 - acc: 0.8925 - val_loss: 0.2455 - val_acc: 0.9630\n",
            "Epoch 11/20\n",
            "50/50 [==============================] - 54s 1s/step - loss: 0.2494 - acc: 0.9630\n",
            " - 211s - loss: 0.2624 - acc: 0.8885 - val_loss: 0.2494 - val_acc: 0.9630\n",
            "Epoch 12/20\n",
            "50/50 [==============================] - 54s 1s/step - loss: 0.3508 - acc: 0.9520\n",
            " - 211s - loss: 0.2791 - acc: 0.8860 - val_loss: 0.3508 - val_acc: 0.9520\n",
            "Epoch 13/20\n",
            "50/50 [==============================] - 54s 1s/step - loss: 0.3722 - acc: 0.9530\n",
            " - 211s - loss: 0.2654 - acc: 0.8865 - val_loss: 0.3722 - val_acc: 0.9530\n",
            "Epoch 14/20\n",
            "50/50 [==============================] - 53s 1s/step - loss: 0.4017 - acc: 0.9480\n",
            " - 209s - loss: 0.2601 - acc: 0.8935 - val_loss: 0.4017 - val_acc: 0.9480\n",
            "Epoch 15/20\n",
            "50/50 [==============================] - 53s 1s/step - loss: 0.3192 - acc: 0.9550\n",
            " - 209s - loss: 0.2592 - acc: 0.8885 - val_loss: 0.3192 - val_acc: 0.9550\n",
            "Epoch 16/20\n",
            "50/50 [==============================] - 53s 1s/step - loss: 0.4291 - acc: 0.9460\n",
            " - 210s - loss: 0.2683 - acc: 0.9000 - val_loss: 0.4291 - val_acc: 0.9460\n",
            "Epoch 17/20\n",
            "50/50 [==============================] - 53s 1s/step - loss: 0.3890 - acc: 0.9470\n",
            " - 210s - loss: 0.2414 - acc: 0.8995 - val_loss: 0.3890 - val_acc: 0.9470\n",
            "Epoch 18/20\n",
            "50/50 [==============================] - 53s 1s/step - loss: 0.3104 - acc: 0.9590\n",
            " - 210s - loss: 0.2241 - acc: 0.9040 - val_loss: 0.3104 - val_acc: 0.9590\n",
            "Epoch 19/20\n",
            "50/50 [==============================] - 52s 1s/step - loss: 0.3156 - acc: 0.9580\n",
            " - 208s - loss: 0.2549 - acc: 0.8975 - val_loss: 0.3156 - val_acc: 0.9580\n",
            "Epoch 20/20\n",
            "50/50 [==============================] - 53s 1s/step - loss: 0.3333 - acc: 0.9560\n",
            " - 209s - loss: 0.2647 - acc: 0.8960 - val_loss: 0.3333 - val_acc: 0.9560\n"
          ],
          "name": "stdout"
        }
      ]
    },
    {
      "metadata": {
        "id": "Z_cvdEeFz35O",
        "colab_type": "code",
        "colab": {
          "base_uri": "https://localhost:8080/",
          "height": 380
        },
        "outputId": "6009fe1f-828b-4bfc-a2cb-68bf810a589d"
      },
      "cell_type": "code",
      "source": [
        "import matplotlib.pyplot as plt\n",
        "acc = history.history['acc']\n",
        "val_acc = history.history['val_acc']\n",
        "loss = history.history['loss']\n",
        "val_loss = history.history['val_loss']\n",
        "\n",
        "epochs = range(len(acc))\n",
        "\n",
        "plt.plot(epochs, acc, 'r', label='Training accuracy')\n",
        "plt.plot(epochs, val_acc, 'b', label='Validation accuracy')\n",
        "plt.title('Training and validation accuracy')\n",
        "plt.legend(loc=0)\n",
        "plt.figure()\n",
        "\n",
        "\n",
        "plt.show()"
      ],
      "execution_count": 5,
      "outputs": [
        {
          "output_type": "display_data",
          "data": {
            "image/png": "[encoded data removed]",
            "text/plain": [
              "<Figure size 576x396 with 1 Axes>"
            ]
          },
          "metadata": {
            "tags": []
          }
        },
        {
          "output_type": "display_data",
          "data": {
            "text/plain": [
              "<Figure size 576x396 with 0 Axes>"
            ]
          },
          "metadata": {
            "tags": []
          }
        }
      ]
    },
    {
      "metadata": {
        "id": "lANe1sBEjlM5",
        "colab_type": "code",
        "colab": {}
      },
      "cell_type": "code",
      "source": [
        ""
      ],
      "execution_count": 0,
      "outputs": []
    }
  ]
}